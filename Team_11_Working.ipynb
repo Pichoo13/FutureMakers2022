{
  "nbformat": 4,
  "nbformat_minor": 0,
  "metadata": {
    "colab": {
      "name": "Team 11 Working ",
      "provenance": [],
      "authorship_tag": "ABX9TyNP1bZtExlqj1A7/b0sQn/+",
      "include_colab_link": true
    },
    "kernelspec": {
      "name": "python3",
      "display_name": "Python 3"
    },
    "language_info": {
      "name": "python"
    }
  },
  "cells": [
    {
      "cell_type": "markdown",
      "metadata": {
        "id": "view-in-github",
        "colab_type": "text"
      },
      "source": [
        "<a href=\"https://colab.research.google.com/github/Pichoo13/FutureMakers2022/blob/main/Team_11_Working.ipynb\" target=\"_parent\"><img src=\"https://colab.research.google.com/assets/colab-badge.svg\" alt=\"Open In Colab\"/></a>"
      ]
    },
    {
      "cell_type": "code",
      "execution_count": null,
      "metadata": {
        "colab": {
          "base_uri": "https://localhost:8080/"
        },
        "id": "NQ8ZJJk6DzBb",
        "outputId": "9a2505ca-5f74-4df9-f7d5-992535dbd3f4"
      },
      "outputs": [
        {
          "output_type": "stream",
          "name": "stdout",
          "text": [
            "Looking in indexes: https://pypi.org/simple, https://us-python.pkg.dev/colab-wheels/public/simple/\n",
            "Requirement already satisfied: PyDictionary in /usr/local/lib/python3.7/dist-packages (2.0.1)\n",
            "Requirement already satisfied: click in /usr/local/lib/python3.7/dist-packages (from PyDictionary) (7.1.2)\n",
            "Requirement already satisfied: requests in /usr/local/lib/python3.7/dist-packages (from PyDictionary) (2.23.0)\n",
            "Requirement already satisfied: goslate in /usr/local/lib/python3.7/dist-packages (from PyDictionary) (1.5.4)\n",
            "Requirement already satisfied: bs4 in /usr/local/lib/python3.7/dist-packages (from PyDictionary) (0.0.1)\n",
            "Requirement already satisfied: beautifulsoup4 in /usr/local/lib/python3.7/dist-packages (from bs4->PyDictionary) (4.6.3)\n",
            "Requirement already satisfied: futures in /usr/local/lib/python3.7/dist-packages (from goslate->PyDictionary) (2.2.0)\n",
            "Requirement already satisfied: idna<3,>=2.5 in /usr/local/lib/python3.7/dist-packages (from requests->PyDictionary) (2.10)\n",
            "Requirement already satisfied: chardet<4,>=3.0.2 in /usr/local/lib/python3.7/dist-packages (from requests->PyDictionary) (3.0.4)\n",
            "Requirement already satisfied: urllib3!=1.25.0,!=1.25.1,<1.26,>=1.21.1 in /usr/local/lib/python3.7/dist-packages (from requests->PyDictionary) (1.24.3)\n",
            "Requirement already satisfied: certifi>=2017.4.17 in /usr/local/lib/python3.7/dist-packages (from requests->PyDictionary) (2022.6.15)\n"
          ]
        }
      ],
      "source": [
        "pip install PyDictionary"
      ]
    },
    {
      "cell_type": "code",
      "source": [
        "from PyDictionary import PyDictionary\n",
        "dictionary=PyDictionary()\n",
        "print (dictionary.meaning(\"usury\"))"
      ],
      "metadata": {
        "colab": {
          "base_uri": "https://localhost:8080/"
        },
        "id": "BplYaSYaD9zo",
        "outputId": "f9530ba9-09b4-441e-fee9-613eb0046dd4"
      },
      "execution_count": null,
      "outputs": [
        {
          "output_type": "stream",
          "name": "stdout",
          "text": [
            "{'Noun': ['an exorbitant or unlawful rate of interest', 'the act of lending money at an exorbitant rate of interest']}\n"
          ]
        }
      ]
    },
    {
      "cell_type": "code",
      "source": [
        "pip install bs4"
      ],
      "metadata": {
        "colab": {
          "base_uri": "https://localhost:8080/"
        },
        "id": "xpXajgUYFtqw",
        "outputId": "b9d7acf0-e7b4-4df3-8d40-31abd0f92e61"
      },
      "execution_count": null,
      "outputs": [
        {
          "output_type": "stream",
          "name": "stdout",
          "text": [
            "Looking in indexes: https://pypi.org/simple, https://us-python.pkg.dev/colab-wheels/public/simple/\n",
            "Requirement already satisfied: bs4 in /usr/local/lib/python3.7/dist-packages (0.0.1)\n",
            "Requirement already satisfied: beautifulsoup4 in /usr/local/lib/python3.7/dist-packages (from bs4) (4.6.3)\n"
          ]
        }
      ]
    },
    {
      "cell_type": "code",
      "source": [
        "pip install html5lib"
      ],
      "metadata": {
        "colab": {
          "base_uri": "https://localhost:8080/"
        },
        "id": "nSXXrY3BFqOb",
        "outputId": "e4eaba56-0fca-45cb-f2fd-68af026b76eb"
      },
      "execution_count": null,
      "outputs": [
        {
          "output_type": "stream",
          "name": "stdout",
          "text": [
            "Looking in indexes: https://pypi.org/simple, https://us-python.pkg.dev/colab-wheels/public/simple/\n",
            "Requirement already satisfied: html5lib in /usr/local/lib/python3.7/dist-packages (1.0.1)\n",
            "Requirement already satisfied: webencodings in /usr/local/lib/python3.7/dist-packages (from html5lib) (0.5.1)\n",
            "Requirement already satisfied: six>=1.9 in /usr/local/lib/python3.7/dist-packages (from html5lib) (1.15.0)\n"
          ]
        }
      ]
    },
    {
      "cell_type": "code",
      "source": [
        "pip install requests"
      ],
      "metadata": {
        "colab": {
          "base_uri": "https://localhost:8080/"
        },
        "id": "wuB0ivUYFfxV",
        "outputId": "32c1359d-ce7e-4e0a-9f5c-983c1cdbd86d"
      },
      "execution_count": null,
      "outputs": [
        {
          "output_type": "stream",
          "name": "stdout",
          "text": [
            "Looking in indexes: https://pypi.org/simple, https://us-python.pkg.dev/colab-wheels/public/simple/\n",
            "Requirement already satisfied: requests in /usr/local/lib/python3.7/dist-packages (2.23.0)\n",
            "Requirement already satisfied: chardet<4,>=3.0.2 in /usr/local/lib/python3.7/dist-packages (from requests) (3.0.4)\n",
            "Requirement already satisfied: certifi>=2017.4.17 in /usr/local/lib/python3.7/dist-packages (from requests) (2022.6.15)\n",
            "Requirement already satisfied: idna<3,>=2.5 in /usr/local/lib/python3.7/dist-packages (from requests) (2.10)\n",
            "Requirement already satisfied: urllib3!=1.25.0,!=1.25.1,<1.26,>=1.21.1 in /usr/local/lib/python3.7/dist-packages (from requests) (1.24.3)\n"
          ]
        }
      ]
    },
    {
      "cell_type": "code",
      "source": [
        "URL = \"http://www.values.com/inspirational-quotes\"\n",
        "r = requests.get(URL)\n",
        "import csv\n",
        "  \n",
        "soup = BeautifulSoup(r.content, 'html5lib') # If this line causes an error, run 'pip install html5lib' or install html5lib\n",
        "print(soup.prettify())\n"
      ],
      "metadata": {
        "id": "c_qrgxXPJCJW"
      },
      "execution_count": null,
      "outputs": []
    },
    {
      "cell_type": "code",
      "source": [
        "import requests\n",
        "from bs4 import BeautifulSoup\n",
        "URL = \"https://dictionary.translegal.com/dictionaries/br/devedor-credor\"\n",
        "r = requests.get(URL)\n",
        "\n",
        "soup = BeautifulSoup(r.content, 'html5lib') \n",
        "table = soup.find('ul class', attrs = {'id':'columns-3 svelte-ano0dn'}) \n",
        "print(soup.prettify())\n",
        "print(table)"
      ],
      "metadata": {
        "id": "mcvN277sFw4H"
      },
      "execution_count": null,
      "outputs": []
    },
    {
      "cell_type": "code",
      "source": [
        "import urllib.request\n",
        "from bs4 import BeautifulSoup\n",
        "from urllib.error import HTTPError\n",
        "\n",
        "word_exists=False\n",
        "\n",
        "word = input('Enter the word to find the meaning : ')\n",
        "\n",
        "url = \"https://dictionary.translegal.com/br/\" + word + \"\"\n",
        "\n",
        "try:\n",
        "    htmlfile = urllib.request.urlopen(url)\n",
        "    word_exists=True\n",
        "except HTTPError:\n",
        "    print('Cannot find such word! Check spelling.')\n",
        "    word_exists=False\n",
        "    exit()\n",
        "\n",
        "soup = BeautifulSoup(htmlfile, 'lxml')\n",
        "soup1 = soup.find(class_=\"svelte-131obxu\")\n",
        "\n",
        "try:\n",
        "    soup1 = soup1.get_text()\n",
        "except AttributeError:\n",
        "    print('Cannot find such word! Check spelling.')\n",
        "    exit()\n",
        "\n",
        "# Print meaning\n",
        "print ('-' * 25 + '->',word,\"<-\" + \"-\" * 25)\n",
        "print (\"SHORT MEANING: \\n\\n\",soup1)\n",
        "print ('-' * 65)\n",
        "print(word_exists)\n",
        "\n",
        "#print(soup.prettify())\n"
      ],
      "metadata": {
        "colab": {
          "base_uri": "https://localhost:8080/"
        },
        "id": "-YXkqg39MIWv",
        "outputId": "2534f2a6-14cb-431a-f9c0-8f11149af26b"
      },
      "execution_count": null,
      "outputs": [
        {
          "output_type": "stream",
          "name": "stdout",
          "text": [
            "Enter the word to find the meaning : alegado\n",
            "--------------------------> alegado <--------------------------\n",
            "SHORT MEANING: \n",
            "\n",
            " \n",
            "There are multiple definitions - click on the translation that matches your context.\n",
            "alegado means:\n",
            "allegedclaimedasserted\n",
            "\n",
            "\n",
            "Dictionaries\n",
            "Brazil\n",
            "Direito Arbitral\n",
            "\n",
            "\n",
            "alegado\n",
            "adjetivo\n",
            "\n",
            "full\n",
            "\n",
            "\n",
            "alleged\n",
            "adjective\n",
            "\n",
            "\n",
            "Direito Arbitral\n",
            "Direito Processual\n",
            "\n",
            "Dispute Resolution\n",
            "Procedural Law and Evidence\n",
            "\n",
            "\n",
            "\n",
            "Definitions of alleged\n",
            "claimed by someone to be true, even though they have not yet proved it\n",
            "The prosecutor alleged that the CEO had engaged in insider trading.\n",
            "\n",
            "\n",
            "\n",
            "\n",
            "\n",
            "\n",
            "\n",
            "\n",
            "\n",
            "-----------------------------------------------------------------\n",
            "True\n"
          ]
        }
      ]
    }
  ]
}